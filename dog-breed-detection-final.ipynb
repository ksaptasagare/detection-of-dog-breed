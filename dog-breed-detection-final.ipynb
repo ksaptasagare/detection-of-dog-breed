{
 "cells": [
  {
   "cell_type": "markdown",
   "id": "048517cf-732b-4168-9e2d-27201a077feb",
   "metadata": {},
   "source": [
    "# Importing the required libraries"
   ]
  },
  {
   "cell_type": "code",
   "execution_count": 1,
   "id": "aa6be9bb-9c2b-4cbf-a0f2-19a6cc57b7b5",
   "metadata": {},
   "outputs": [],
   "source": [
    "import os, cv2, random, time, shutil, csv\n",
    "import numpy as np\n",
    "import pandas as pd\n",
    "import seaborn as sns\n",
    "import matplotlib.pyplot as plt\n",
    "import matplotlib.image as mpimg\n",
    "import squarify"
   ]
  },
  {
   "cell_type": "markdown",
   "id": "11a3cbb8-0e95-4cbb-bf7a-ccc2d334f088",
   "metadata": {},
   "source": [
    "# Finding the contents of the directory"
   ]
  },
  {
   "cell_type": "code",
   "execution_count": 2,
   "id": "077152d0-27e4-4184-b554-98b2f5a94363",
   "metadata": {},
   "outputs": [
    {
     "name": "stdout",
     "output_type": "stream",
     "text": [
      "{'csv': 2, 'jpg': 20616, 'jpeg': 4, 'h5': 4}\n",
      "['/root/project/data/labels.csv', '/root/project/data/.ipynb_checkpoints/labels-checkpoint.csv']\n"
     ]
    }
   ],
   "source": [
    "files_type = {}\n",
    "files_extension = {}\n",
    "for dirname, _, filenames in os.walk('/root/project/data'):\n",
    "    for filename in filenames:\n",
    "        if '.' in filename:\n",
    "            extension = filename[filename.find('.')+1:]\n",
    "            files_extension[extension] = files_extension.get(extension, 0) + 1\n",
    "            if extension not in files_type: files_type[extension] = []\n",
    "            files_type[extension].append(os.path.join(dirname, filename))\n",
    "print(files_extension)\n",
    "print(files_type['csv'])"
   ]
  },
  {
   "cell_type": "markdown",
   "id": "bd8705fa-1586-4c25-bd57-95e995984bf4",
   "metadata": {},
   "source": [
    "# Describing the labels"
   ]
  },
  {
   "cell_type": "code",
   "execution_count": 3,
   "id": "0f904a3a-6451-453f-836e-20b3d106e599",
   "metadata": {},
   "outputs": [
    {
     "data": {
      "text/html": [
       "<div>\n",
       "<style scoped>\n",
       "    .dataframe tbody tr th:only-of-type {\n",
       "        vertical-align: middle;\n",
       "    }\n",
       "\n",
       "    .dataframe tbody tr th {\n",
       "        vertical-align: top;\n",
       "    }\n",
       "\n",
       "    .dataframe thead th {\n",
       "        text-align: right;\n",
       "    }\n",
       "</style>\n",
       "<table border=\"1\" class=\"dataframe\">\n",
       "  <thead>\n",
       "    <tr style=\"text-align: right;\">\n",
       "      <th></th>\n",
       "      <th>id</th>\n",
       "      <th>breed</th>\n",
       "    </tr>\n",
       "  </thead>\n",
       "  <tbody>\n",
       "    <tr>\n",
       "      <th>0</th>\n",
       "      <td>000bec180eb18c7604dcecc8fe0dba07</td>\n",
       "      <td>boston_bull</td>\n",
       "    </tr>\n",
       "    <tr>\n",
       "      <th>1</th>\n",
       "      <td>001513dfcb2ffafc82cccf4d8bbaba97</td>\n",
       "      <td>dingo</td>\n",
       "    </tr>\n",
       "    <tr>\n",
       "      <th>2</th>\n",
       "      <td>001cdf01b096e06d78e9e5112d419397</td>\n",
       "      <td>pekinese</td>\n",
       "    </tr>\n",
       "    <tr>\n",
       "      <th>3</th>\n",
       "      <td>00214f311d5d2247d5dfe4fe24b2303d</td>\n",
       "      <td>bluetick</td>\n",
       "    </tr>\n",
       "    <tr>\n",
       "      <th>4</th>\n",
       "      <td>0021f9ceb3235effd7fcde7f7538ed62</td>\n",
       "      <td>golden_retriever</td>\n",
       "    </tr>\n",
       "  </tbody>\n",
       "</table>\n",
       "</div>"
      ],
      "text/plain": [
       "                                 id             breed\n",
       "0  000bec180eb18c7604dcecc8fe0dba07       boston_bull\n",
       "1  001513dfcb2ffafc82cccf4d8bbaba97             dingo\n",
       "2  001cdf01b096e06d78e9e5112d419397          pekinese\n",
       "3  00214f311d5d2247d5dfe4fe24b2303d          bluetick\n",
       "4  0021f9ceb3235effd7fcde7f7538ed62  golden_retriever"
      ]
     },
     "execution_count": 3,
     "metadata": {},
     "output_type": "execute_result"
    }
   ],
   "source": [
    "labels_df = pd.read_csv('/root/project/data/labels.csv')\n",
    "labels_df.head()"
   ]
  },
  {
   "cell_type": "code",
   "execution_count": 4,
   "id": "61790cc4-a74f-4294-8037-42b8972e7149",
   "metadata": {},
   "outputs": [
    {
     "data": {
      "text/html": [
       "<div>\n",
       "<style scoped>\n",
       "    .dataframe tbody tr th:only-of-type {\n",
       "        vertical-align: middle;\n",
       "    }\n",
       "\n",
       "    .dataframe tbody tr th {\n",
       "        vertical-align: top;\n",
       "    }\n",
       "\n",
       "    .dataframe thead th {\n",
       "        text-align: right;\n",
       "    }\n",
       "</style>\n",
       "<table border=\"1\" class=\"dataframe\">\n",
       "  <thead>\n",
       "    <tr style=\"text-align: right;\">\n",
       "      <th></th>\n",
       "      <th>id</th>\n",
       "      <th>breed</th>\n",
       "    </tr>\n",
       "  </thead>\n",
       "  <tbody>\n",
       "    <tr>\n",
       "      <th>count</th>\n",
       "      <td>10222</td>\n",
       "      <td>10222</td>\n",
       "    </tr>\n",
       "    <tr>\n",
       "      <th>unique</th>\n",
       "      <td>10222</td>\n",
       "      <td>120</td>\n",
       "    </tr>\n",
       "    <tr>\n",
       "      <th>top</th>\n",
       "      <td>000bec180eb18c7604dcecc8fe0dba07</td>\n",
       "      <td>scottish_deerhound</td>\n",
       "    </tr>\n",
       "    <tr>\n",
       "      <th>freq</th>\n",
       "      <td>1</td>\n",
       "      <td>126</td>\n",
       "    </tr>\n",
       "  </tbody>\n",
       "</table>\n",
       "</div>"
      ],
      "text/plain": [
       "                                      id               breed\n",
       "count                              10222               10222\n",
       "unique                             10222                 120\n",
       "top     000bec180eb18c7604dcecc8fe0dba07  scottish_deerhound\n",
       "freq                                   1                 126"
      ]
     },
     "execution_count": 4,
     "metadata": {},
     "output_type": "execute_result"
    }
   ],
   "source": [
    "labels_df.describe()"
   ]
  },
  {
   "cell_type": "code",
   "execution_count": 5,
   "id": "13a22052-8d31-422a-8319-4e2f784cb497",
   "metadata": {},
   "outputs": [
    {
     "data": {
      "image/png": "[encoded data removed]",
      "text/plain": [
       "<Figure size 640x480 with 1 Axes>"
      ]
     },
     "metadata": {},
     "output_type": "display_data"
    }
   ],
   "source": [
    "breed_counts = labels_df['breed'].value_counts()\n",
    "breed_df = pd.DataFrame({'Breed': breed_counts.index, 'Count': breed_counts.values})\n",
    "squarify.plot(sizes=breed_df['Count'], alpha=.8)\n",
    "plt.axis('off')\n",
    "plt.show()"
   ]
  },
  {
   "cell_type": "code",
   "execution_count": 6,
   "id": "74f5db27-1dbd-4dcd-93f0-5ab4bc49dc78",
   "metadata": {},
   "outputs": [],
   "source": [
    "dog_breeds = sorted(list(set(labels_df['breed'])))\n",
    "n_classes = len(dog_breeds)\n",
    "class_to_num = dict(zip(dog_breeds, range(n_classes)))\n",
    "train_dir = '/root/project/data/train/'\n",
    "test_dir = '/root/project/data/test/'"
   ]
  }
 ],
 "metadata": {
  "kernelspec": {
   "display_name": "Python 3 (ipykernel)",
   "language": "python",
   "name": "python3"
  },
  "language_info": {
   "codemirror_mode": {
    "name": "ipython",
    "version": 3
   },
   "file_extension": ".py",
   "mimetype": "text/x-python",
   "name": "python",
   "nbconvert_exporter": "python",
   "pygments_lexer": "ipython3",
   "version": "3.10.10"
  }
 },
 "nbformat": 4,
 "nbformat_minor": 5
}
